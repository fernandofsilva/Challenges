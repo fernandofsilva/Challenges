{
  "nbformat": 4,
  "nbformat_minor": 0,
  "metadata": {
    "colab": {
      "name": "04_modelo_lstm_sequential.ipynb",
      "provenance": [],
      "collapsed_sections": [],
      "mount_file_id": "198LbacPWQn3QI6mrrbU39LopIXy_DTxr",
      "authorship_tag": "ABX9TyM4yeT2COroRxMCu4+mfTLE",
      "include_colab_link": true
    },
    "kernelspec": {
      "name": "python3",
      "display_name": "Python 3"
    }
  },
  "cells": [
    {
      "cell_type": "markdown",
      "metadata": {
        "id": "view-in-github",
        "colab_type": "text"
      },
      "source": [
        "<a href=\"https://colab.research.google.com/github/fernandofsilva/Challenges/blob/master/notebooks/04_modelo_lstm_sequential.ipynb\" target=\"_parent\"><img src=\"https://colab.research.google.com/assets/colab-badge.svg\" alt=\"Open In Colab\"/></a>"
      ]
    },
    {
      "cell_type": "markdown",
      "metadata": {
        "id": "WGnVfC8rlW2L"
      },
      "source": [
        "# Setup"
      ]
    },
    {
      "cell_type": "code",
      "metadata": {
        "id": "5164wKgmlQ7V"
      },
      "source": [
        "#@title Carregando as bibliotecas base\n",
        "import pandas as pd\n",
        "import numpy as np\n",
        "import tensorflow as tf\n",
        "\n",
        "import warnings\n",
        "warnings.simplefilter('ignore')\n",
        "\n",
        "%matplotlib inline\n",
        "import matplotlib.pyplot as plt\n",
        "import seaborn\n",
        "\n",
        "seaborn.set_style('whitegrid')"
      ],
      "execution_count": 6,
      "outputs": []
    },
    {
      "cell_type": "code",
      "metadata": {
        "colab": {
          "base_uri": "https://localhost:8080/",
          "height": 204
        },
        "id": "uBLRJNLJla7l",
        "outputId": "562befba-b6f6-4cf2-ea46-166a32b1ec5b"
      },
      "source": [
        "#@title Carregando os dados\n",
        "data = pd.read_csv(f'/content/drive/My Drive/Mestrado/data/dados_treino_teste.csv.gz', compression='gzip', index_col=0)\n",
        "data.head()"
      ],
      "execution_count": 7,
      "outputs": [
        {
          "output_type": "execute_result",
          "data": {
            "text/html": [
              "<div>\n",
              "<style scoped>\n",
              "    .dataframe tbody tr th:only-of-type {\n",
              "        vertical-align: middle;\n",
              "    }\n",
              "\n",
              "    .dataframe tbody tr th {\n",
              "        vertical-align: top;\n",
              "    }\n",
              "\n",
              "    .dataframe thead th {\n",
              "        text-align: right;\n",
              "    }\n",
              "</style>\n",
              "<table border=\"1\" class=\"dataframe\">\n",
              "  <thead>\n",
              "    <tr style=\"text-align: right;\">\n",
              "      <th></th>\n",
              "      <th>codigo</th>\n",
              "      <th>mercado</th>\n",
              "      <th>preco_opcao</th>\n",
              "      <th>preco_exercicio</th>\n",
              "      <th>data_vencimento</th>\n",
              "      <th>T</th>\n",
              "      <th>preco_ativo</th>\n",
              "      <th>volatilidade</th>\n",
              "      <th>taxa_juros</th>\n",
              "      <th>black_scholes</th>\n",
              "      <th>delta_black_scholes</th>\n",
              "      <th>base</th>\n",
              "    </tr>\n",
              "  </thead>\n",
              "  <tbody>\n",
              "    <tr>\n",
              "      <th>2015-01-05</th>\n",
              "      <td>PETRM17</td>\n",
              "      <td>OPÇÕES DE VENDA</td>\n",
              "      <td>8.18</td>\n",
              "      <td>16.91</td>\n",
              "      <td>2015-01-19</td>\n",
              "      <td>0.039683</td>\n",
              "      <td>8.61</td>\n",
              "      <td>0.771953</td>\n",
              "      <td>0.1157</td>\n",
              "      <td>8.22</td>\n",
              "      <td>100</td>\n",
              "      <td>treino</td>\n",
              "    </tr>\n",
              "    <tr>\n",
              "      <th>2015-01-05</th>\n",
              "      <td>PETRM28</td>\n",
              "      <td>OPÇÕES DE VENDA</td>\n",
              "      <td>0.36</td>\n",
              "      <td>8.41</td>\n",
              "      <td>2015-01-19</td>\n",
              "      <td>0.039683</td>\n",
              "      <td>8.61</td>\n",
              "      <td>0.771953</td>\n",
              "      <td>0.1157</td>\n",
              "      <td>0.41</td>\n",
              "      <td>40</td>\n",
              "      <td>treino</td>\n",
              "    </tr>\n",
              "    <tr>\n",
              "      <th>2015-01-05</th>\n",
              "      <td>PETRM2</td>\n",
              "      <td>OPÇÕES DE VENDA</td>\n",
              "      <td>0.02</td>\n",
              "      <td>4.91</td>\n",
              "      <td>2015-01-19</td>\n",
              "      <td>0.039683</td>\n",
              "      <td>8.61</td>\n",
              "      <td>0.771953</td>\n",
              "      <td>0.1157</td>\n",
              "      <td>0.00</td>\n",
              "      <td>0</td>\n",
              "      <td>teste</td>\n",
              "    </tr>\n",
              "    <tr>\n",
              "      <th>2015-01-05</th>\n",
              "      <td>PETRM23</td>\n",
              "      <td>OPÇÕES DE VENDA</td>\n",
              "      <td>0.79</td>\n",
              "      <td>9.21</td>\n",
              "      <td>2015-01-19</td>\n",
              "      <td>0.039683</td>\n",
              "      <td>8.61</td>\n",
              "      <td>0.771953</td>\n",
              "      <td>0.1157</td>\n",
              "      <td>0.87</td>\n",
              "      <td>63</td>\n",
              "      <td>treino</td>\n",
              "    </tr>\n",
              "    <tr>\n",
              "      <th>2015-01-05</th>\n",
              "      <td>PETRM25</td>\n",
              "      <td>OPÇÕES DE VENDA</td>\n",
              "      <td>1.13</td>\n",
              "      <td>9.61</td>\n",
              "      <td>2015-01-19</td>\n",
              "      <td>0.039683</td>\n",
              "      <td>8.61</td>\n",
              "      <td>0.771953</td>\n",
              "      <td>0.1157</td>\n",
              "      <td>1.16</td>\n",
              "      <td>73</td>\n",
              "      <td>treino</td>\n",
              "    </tr>\n",
              "  </tbody>\n",
              "</table>\n",
              "</div>"
            ],
            "text/plain": [
              "             codigo          mercado  ...  delta_black_scholes    base\n",
              "2015-01-05  PETRM17  OPÇÕES DE VENDA  ...                  100  treino\n",
              "2015-01-05  PETRM28  OPÇÕES DE VENDA  ...                   40  treino\n",
              "2015-01-05   PETRM2  OPÇÕES DE VENDA  ...                    0   teste\n",
              "2015-01-05  PETRM23  OPÇÕES DE VENDA  ...                   63  treino\n",
              "2015-01-05  PETRM25  OPÇÕES DE VENDA  ...                   73  treino\n",
              "\n",
              "[5 rows x 12 columns]"
            ]
          },
          "metadata": {
            "tags": []
          },
          "execution_count": 7
        }
      ]
    },
    {
      "cell_type": "markdown",
      "metadata": {
        "id": "OVFUBPHHMzqq"
      },
      "source": [
        "# Pré-processamento LSTM\n",
        "\n",
        "Essa fase é necessária para o input dos dados na rede LSTM, redes LTSM precisam dos dados em 3 dimensões, porém não existe uma quantidade fixa de dias de negócios para cada opção, para fixar um valor de time steps, foram criados dias em branco com valores 0 para inserir dentro da rede, esses valores não prejudicam o treinamento, uma vez que não existem opções de valores 0."
      ]
    },
    {
      "cell_type": "code",
      "metadata": {
        "id": "N68yDC6UM8BH"
      },
      "source": [
        "#@title Padding time steps\n",
        "\n",
        "# Reset Index\n",
        "data = data.reset_index()\n",
        "\n",
        "# Criar dataframe de referência\n",
        "reference = data.groupby(['data_vencimento', 'codigo', 'mercado', 'base'], as_index=False).agg({'T': 'count'})\n",
        "\n",
        "# Dataframe para anexar os dados de cada loop\n",
        "data_padded = pd.DataFrame()\n",
        "\n",
        "# Tamanho da maior sequência\n",
        "max_length = reference['T'].max() #341\n",
        "\n",
        "# Loop over the reference dict\n",
        "for index, row in reference.iterrows():\n",
        "\n",
        "    # Filtrar os dados para uma opção\n",
        "    subset = data[(data['data_vencimento'] == row['data_vencimento']) & (data['codigo'] == row['codigo'])]\n",
        "\n",
        "    # Calcular o tamanho dos que serão anexadoss\n",
        "    size = max_length - subset.shape[0]\n",
        "\n",
        "    # Criar o dataframe com os dados nulos\n",
        "    subset = pd.DataFrame({'index': pd.date_range(start='1/1/2010', periods=size),\n",
        "                'codigo': [row['codigo']] * size,\n",
        "                'mercado': [row['mercado']] * size,\n",
        "                'preco_opcao': [0.0] * size,\n",
        "                'preco_exercicio': [0.0] * size,\n",
        "                'data_vencimento': [row['data_vencimento']] * size,\n",
        "                'T': [0.0] * size,\n",
        "                'preco_ativo': [0.0] * size,\n",
        "                'volatilidade': [0.0] * size,\n",
        "                'taxa_juros': [0.0] * size,\n",
        "                'black_scholes': [0.0] * size,\n",
        "                'delta_black_scholes': [0] * size,\n",
        "                'base': [row['base']] * size\n",
        "    }).append(subset)\n",
        "\n",
        "    # Anexar o subset dos dados no dataframee\n",
        "    data_padded = data_padded.append(subset)\n",
        "\n",
        "# Ordenar valores\n",
        "data_padded = data_padded.sort_values(by=['data_vencimento', 'codigo', 'index'])\n",
        "\n",
        "# Colocar index\n",
        "data_padded.index = data_padded['index']\n",
        "data_padded = data_padded.drop(['index'], axis=1)"
      ],
      "execution_count": null,
      "outputs": []
    },
    {
      "cell_type": "code",
      "metadata": {
        "id": "3xCZqyGsrKO4"
      },
      "source": [
        "data_padded = pd.read_csv('/content/drive/My Drive/Mestrado/data/dados_padded_treino_teste.csv.gz', compression='gzip')\n",
        "max_length = 341"
      ],
      "execution_count": 8,
      "outputs": []
    },
    {
      "cell_type": "markdown",
      "metadata": {
        "id": "iwInelNJlem8"
      },
      "source": [
        "# Engenharia das variáveis (Feature Engineering)\n",
        "\n",
        "Essa sessão é composta da transformação dos dados para entrada na rede na rede neural. Portando, as variáveis são transformadas do seu valor original, seja para adequação dentro da rede neural ou para um melhor treinamento da rede, essas transformações são:\n",
        "\n",
        "- Variavéis númericas foram normalizadas antes da entrada na rede\n",
        "- Variável categórica sofreu one hot encoding\n",
        "\n",
        "A transformação dos dados é feita no mesmo momento que o modelo é treinado, isso é feito através da criacão de um modelo que não diferenciado numéricamente e vai somente processar os dados de entrada. "
      ]
    },
    {
      "cell_type": "code",
      "metadata": {
        "id": "h6RTgQ1XGoBy"
      },
      "source": [
        "#@title Definir subset para o modelo\n",
        "cols = ['preco_exercicio', 'preco_ativo', 'T', 'volatilidade', 'taxa_juros', 'mercado', 'preco_opcao']\n",
        "features = data[cols].copy()\n",
        "labels = features.pop('preco_opcao')"
      ],
      "execution_count": 9,
      "outputs": []
    },
    {
      "cell_type": "code",
      "metadata": {
        "id": "I5FR92CXGogK"
      },
      "source": [
        "#@title Definir variáveis de entrada\n",
        "inputs = {}\n",
        "\n",
        "for name, column in features.items():\n",
        "    dtype = column.dtype\n",
        "    if dtype == object:\n",
        "        dtype = tf.string\n",
        "    else:\n",
        "        dtype = tf.float32\n",
        "\n",
        "    inputs[name] = tf.keras.Input(shape=(1,), name=name, dtype=dtype)"
      ],
      "execution_count": 10,
      "outputs": []
    },
    {
      "cell_type": "code",
      "metadata": {
        "id": "VqxtyOuNGrFl"
      },
      "source": [
        "#@title Definir variáveis númericas e normalizar\n",
        "numeric_inputs = {name: input for name, input in inputs.items() if input.dtype==tf.float32}\n",
        "\n",
        "x = tf.keras.layers.Concatenate(name='concatenate_numeric')(list(numeric_inputs.values()))\n",
        "norm = tf.keras.layers.experimental.preprocessing.Normalization()\n",
        "norm.adapt(np.array(data[numeric_inputs.keys()]))\n",
        "all_numeric_inputs = norm(x)\n",
        "\n",
        "preprocessed_inputs = [all_numeric_inputs]"
      ],
      "execution_count": 11,
      "outputs": []
    },
    {
      "cell_type": "code",
      "metadata": {
        "id": "x9luRKnlGs2a"
      },
      "source": [
        "#@title Definir categóricas e aplicar one hot encoding\n",
        "for name, input in inputs.items():\n",
        "    if input.dtype == tf.float32:\n",
        "        continue\n",
        "  \n",
        "    lookup = tf.keras.layers.experimental.preprocessing.StringLookup(vocabulary=np.unique(features[name]))\n",
        "    one_hot = tf.keras.layers.experimental.preprocessing.CategoryEncoding(max_tokens=lookup.vocab_size())\n",
        "\n",
        "    x = lookup(input)\n",
        "    x = one_hot(x)\n",
        "    preprocessed_inputs.append(x)"
      ],
      "execution_count": 12,
      "outputs": []
    },
    {
      "cell_type": "code",
      "metadata": {
        "colab": {
          "base_uri": "https://localhost:8080/",
          "height": 535
        },
        "id": "8Yt_7DPVGuZP",
        "outputId": "c622dd30-0fcb-42c3-d52e-2ecb4f85543b"
      },
      "source": [
        "#@title Concatenar dados de entrada e criar modelo para processamento das variavéis\n",
        "preprocessed_inputs_cat = tf.keras.layers.Concatenate(name='concatenate_all')(preprocessed_inputs)\n",
        "model_preprocessing = tf.keras.Model(inputs, preprocessed_inputs_cat)\n",
        "tf.keras.utils.plot_model(model=model_preprocessing, rankdir=\"LR\", dpi=72, show_shapes=True)"
      ],
      "execution_count": 13,
      "outputs": [
        {
          "output_type": "execute_result",
          "data": {
            "image/png": "[encoded data removed]",
            "text/plain": [
              "<IPython.core.display.Image object>"
            ]
          },
          "metadata": {
            "tags": []
          },
          "execution_count": 13
        }
      ]
    },
    {
      "cell_type": "code",
      "metadata": {
        "colab": {
          "base_uri": "https://localhost:8080/"
        },
        "id": "9TQRNYRsGwCM",
        "outputId": "c57763aa-be3a-4bb1-f7d5-8ce4743c6ea4"
      },
      "source": [
        "#@title Amostra de dados processados\n",
        "sample_features_dict = {name: np.array(value) for name, value in features.items()}\n",
        "sample_features_dict = {name: values[:341] for name, values in sample_features_dict.items()}\n",
        "model_preprocessing(sample_features_dict)"
      ],
      "execution_count": 14,
      "outputs": [
        {
          "output_type": "execute_result",
          "data": {
            "text/plain": [
              "<tf.Tensor: shape=(341, 9), dtype=float32, numpy=\n",
              "array([[-0.16609144, -1.262118  , -0.5997047 , ...,  0.        ,\n",
              "         0.        ,  1.        ],\n",
              "       [-1.2128178 , -1.262118  , -0.5997047 , ...,  0.        ,\n",
              "         0.        ,  1.        ],\n",
              "       [-1.6438228 , -1.262118  , -0.5997047 , ...,  0.        ,\n",
              "         0.        ,  1.        ],\n",
              "       ...,\n",
              "       [-0.7202407 , -1.3005961 , -0.2999    , ...,  0.        ,\n",
              "         1.        ,  0.        ],\n",
              "       [-1.0170184 , -1.3005961 ,  4.989511  , ...,  0.        ,\n",
              "         1.        ,  0.        ],\n",
              "       [-0.8938741 , -1.3005961 ,  4.989511  , ...,  0.        ,\n",
              "         1.        ,  0.        ]], dtype=float32)>"
            ]
          },
          "metadata": {
            "tags": []
          },
          "execution_count": 14
        }
      ]
    },
    {
      "cell_type": "code",
      "metadata": {
        "colab": {
          "base_uri": "https://localhost:8080/",
          "height": 130
        },
        "id": "yR-3iWNDGxOe",
        "outputId": "487780fb-dfe3-4f6e-a070-d6c610ea9d5a"
      },
      "source": [
        "#@title Split dados em treinamento e test\n",
        "\n",
        "def train_test_split(data):\n",
        "\n",
        "    cols = ['preco_exercicio', 'preco_ativo', 'T', 'volatilidade', 'taxa_juros', 'mercado']\n",
        "\n",
        "    train = \n",
        "\n"
      ],
      "execution_count": 10,
      "outputs": [
        {
          "output_type": "error",
          "ename": "SyntaxError",
          "evalue": "ignored",
          "traceback": [
            "\u001b[0;36m  File \u001b[0;32m\"<ipython-input-10-054c2672fe82>\"\u001b[0;36m, line \u001b[0;32m7\u001b[0m\n\u001b[0;31m    train =\u001b[0m\n\u001b[0m            ^\u001b[0m\n\u001b[0;31mSyntaxError\u001b[0m\u001b[0;31m:\u001b[0m invalid syntax\n"
          ]
        }
      ]
    },
    {
      "cell_type": "markdown",
      "metadata": {
        "id": "Xys1VN9dGz1I"
      },
      "source": [
        "# Modelo\n",
        "\n",
        "O modelo de rede neural profunda a seguir, foi baseado nos estudos desenvolvidos por Hirsa, Karatas, & Oskoui. No trabalho são testadas diversas arquiteturas (camadas e elementos em cada camada), bem como função de atição de cada camada e também função de otimização.\n",
        "\n",
        "A conclusão do estudo mostra que os melhores resultados foram obtidos utilizando uma rede de 4 camadas com 120 neurônios cada uma."
      ]
    },
    {
      "cell_type": "code",
      "metadata": {
        "id": "_ccwygjGQGzV"
      },
      "source": [
        "#@title Camada customizada\n",
        "class ReshapeEndpoint(keras.layers.Layer):\n",
        "    def __init__(self, name=None):\n",
        "        super(ReshapeEndpoint, self).__init__(name=name)\n",
        "        self.loss_fn = keras.losses.BinaryCrossentropy(from_logits=True)\n",
        "        self.accuracy_fn = keras.metrics.BinaryAccuracy(name=\"accuracy\")\n",
        "\n",
        "    def call(self, logits, targets=None, sample_weight=None):\n",
        "        if targets is not None:\n",
        "            # Compute the training-time loss value and add it\n",
        "            # to the layer using `self.add_loss()`.\n",
        "            loss = self.loss_fn(targets, logits, sample_weight)\n",
        "            self.add_loss(loss)\n",
        "\n",
        "            # Log the accuracy as a metric (we could log arbitrary metrics,\n",
        "            # including different metrics for training and inference.\n",
        "            self.add_metric(self.accuracy_fn(targets, logits, sample_weight))\n",
        "\n",
        "        # Return the inference-time prediction tensor (for `.predict()`).\n",
        "        return tf.nn.softmax(logits)"
      ],
      "execution_count": null,
      "outputs": []
    },
    {
      "cell_type": "code",
      "metadata": {
        "id": "ZNp0Rp2kGzBp"
      },
      "source": [
        "#@title Criar, compilar o modelo\n",
        "# Define de model\n",
        "def get_model(preprocessing_head, inputs):\n",
        "    body = tf.keras.Sequential([\n",
        "        # tf.keras.layers.Reshape((341, 9)),\n",
        "        tf.keras.layers.Lambda(lambda x: tf.reshape(x, (1, 341, 9))),\n",
        "        tf.keras.layers.LSTM(40, return_sequences=True),\n",
        "        tf.keras.layers.Dense(1)\n",
        "    ])\n",
        "\n",
        "    preprocessed_inputs = preprocessing_head(inputs)\n",
        "    result = body(preprocessed_inputs)\n",
        "    model = tf.keras.Model(inputs, result)\n",
        "\n",
        "    # Compile\n",
        "    model.compile(\n",
        "        optimizer=tf.keras.optimizers.Adam(0.001),\n",
        "        loss='mse',\n",
        "        metrics=[tf.keras.metrics.MeanAbsoluteError(name=\"MAE\", dtype=None)]\n",
        "    )\n",
        "\n",
        "    return model\n",
        "\n",
        "model = get_model(model_preprocessing, inputs)"
      ],
      "execution_count": 21,
      "outputs": []
    },
    {
      "cell_type": "code",
      "metadata": {
        "colab": {
          "base_uri": "https://localhost:8080/"
        },
        "id": "QqHW11_qOWu6",
        "outputId": "32fd4030-a125-4057-d276-4ddcb17cbe2e"
      },
      "source": [
        "model(sample_features_dict)"
      ],
      "execution_count": 22,
      "outputs": [
        {
          "output_type": "execute_result",
          "data": {
            "text/plain": [
              "<tf.Tensor: shape=(1, 341, 1), dtype=float32, numpy=\n",
              "array([[[ 0.02799832],\n",
              "        [ 0.11838675],\n",
              "        [ 0.20637047],\n",
              "        [ 0.22991884],\n",
              "        [ 0.23622888],\n",
              "        [ 0.23343101],\n",
              "        [ 0.22020239],\n",
              "        [ 0.22400609],\n",
              "        [ 0.24421394],\n",
              "        [ 0.26184344],\n",
              "        [ 0.2256556 ],\n",
              "        [ 0.23370366],\n",
              "        [ 0.13286828],\n",
              "        [ 0.17038357],\n",
              "        [ 0.20554626],\n",
              "        [ 0.14117478],\n",
              "        [ 0.09501574],\n",
              "        [ 0.0852684 ],\n",
              "        [ 0.06535175],\n",
              "        [ 0.02381698],\n",
              "        [ 0.04011719],\n",
              "        [ 0.00731432],\n",
              "        [ 0.02058411],\n",
              "        [-0.00496527],\n",
              "        [-0.05511874],\n",
              "        [-0.10865582],\n",
              "        [-0.06664109],\n",
              "        [-0.12479588],\n",
              "        [-0.18254152],\n",
              "        [-0.09642132],\n",
              "        [-0.1293098 ],\n",
              "        [-0.1324323 ],\n",
              "        [-0.1913989 ],\n",
              "        [-0.18507499],\n",
              "        [-0.14136931],\n",
              "        [-0.10162808],\n",
              "        [-0.1704739 ],\n",
              "        [-0.0835758 ],\n",
              "        [-0.04652371],\n",
              "        [-0.08182722],\n",
              "        [-0.02573663],\n",
              "        [-0.04208756],\n",
              "        [ 0.04704439],\n",
              "        [ 0.09217655],\n",
              "        [ 0.10900033],\n",
              "        [ 0.10496522],\n",
              "        [ 0.12008176],\n",
              "        [ 0.14003092],\n",
              "        [ 0.1509178 ],\n",
              "        [ 0.15431191],\n",
              "        [ 0.15178706],\n",
              "        [ 0.14678097],\n",
              "        [ 0.14031602],\n",
              "        [ 0.13292168],\n",
              "        [ 0.12494631],\n",
              "        [ 0.1166111 ],\n",
              "        [ 0.13404706],\n",
              "        [ 0.14031479],\n",
              "        [ 0.0727409 ],\n",
              "        [ 0.03820536],\n",
              "        [ 0.08820962],\n",
              "        [ 0.05537596],\n",
              "        [ 0.06637955],\n",
              "        [ 0.09329452],\n",
              "        [ 0.08710319],\n",
              "        [ 0.1067129 ],\n",
              "        [ 0.12774996],\n",
              "        [ 0.12279414],\n",
              "        [ 0.12066599],\n",
              "        [ 0.14238948],\n",
              "        [ 0.14712033],\n",
              "        [ 0.16414706],\n",
              "        [ 0.1790479 ],\n",
              "        [ 0.16111958],\n",
              "        [ 0.11990537],\n",
              "        [ 0.14496915],\n",
              "        [ 0.16997257],\n",
              "        [ 0.18955612],\n",
              "        [ 0.11192703],\n",
              "        [ 0.10136641],\n",
              "        [ 0.10523883],\n",
              "        [ 0.15383372],\n",
              "        [ 0.17090495],\n",
              "        [ 0.09803951],\n",
              "        [ 0.07649884],\n",
              "        [ 0.00961056],\n",
              "        [-0.00540918],\n",
              "        [-0.00165004],\n",
              "        [ 0.00989897],\n",
              "        [-0.01881909],\n",
              "        [-0.04557694],\n",
              "        [-0.07124466],\n",
              "        [-0.05088922],\n",
              "        [-0.03359264],\n",
              "        [-0.06352858],\n",
              "        [-0.05757149],\n",
              "        [-0.05153505],\n",
              "        [-0.02705836],\n",
              "        [-0.02078114],\n",
              "        [-0.00444875],\n",
              "        [-0.01231939],\n",
              "        [ 0.00282507],\n",
              "        [-0.02933719],\n",
              "        [-0.05236938],\n",
              "        [-0.013116  ],\n",
              "        [ 0.01199139],\n",
              "        [-0.02843075],\n",
              "        [-0.04901189],\n",
              "        [-0.02640882],\n",
              "        [-0.02030584],\n",
              "        [-0.00080778],\n",
              "        [-0.08102033],\n",
              "        [-0.07192162],\n",
              "        [-0.07501621],\n",
              "        [-0.05960224],\n",
              "        [-0.02742554],\n",
              "        [-0.05912271],\n",
              "        [-0.03105953],\n",
              "        [-0.0145646 ],\n",
              "        [-0.03215878],\n",
              "        [-0.01254395],\n",
              "        [-0.01862632],\n",
              "        [-0.03667355],\n",
              "        [-0.00917244],\n",
              "        [-0.05205983],\n",
              "        [ 0.00411145],\n",
              "        [ 0.01902162],\n",
              "        [ 0.03415228],\n",
              "        [-0.03461324],\n",
              "        [-0.03753775],\n",
              "        [-0.06034382],\n",
              "        [-0.08075515],\n",
              "        [-0.05496583],\n",
              "        [-0.11219946],\n",
              "        [-0.09902878],\n",
              "        [-0.05816592],\n",
              "        [-0.03508815],\n",
              "        [-0.02423989],\n",
              "        [-0.08220153],\n",
              "        [-0.05605932],\n",
              "        [-0.12481432],\n",
              "        [-0.09563065],\n",
              "        [-0.09363577],\n",
              "        [-0.10000771],\n",
              "        [-0.10628659],\n",
              "        [-0.14315984],\n",
              "        [-0.10947084],\n",
              "        [-0.15471433],\n",
              "        [-0.1419342 ],\n",
              "        [-0.06807959],\n",
              "        [-0.02578665],\n",
              "        [-0.1175245 ],\n",
              "        [-0.00849882],\n",
              "        [-0.13967513],\n",
              "        [-0.01014619],\n",
              "        [ 0.02752328],\n",
              "        [ 0.05701044],\n",
              "        [-0.16123323],\n",
              "        [-0.18878046],\n",
              "        [-0.1773319 ],\n",
              "        [-0.18973522],\n",
              "        [-0.11036518],\n",
              "        [-0.08602226],\n",
              "        [-0.07998849],\n",
              "        [-0.08002645],\n",
              "        [-0.08223274],\n",
              "        [-0.10288328],\n",
              "        [-0.06553861],\n",
              "        [-0.05521113],\n",
              "        [ 0.07886536],\n",
              "        [ 0.15060638],\n",
              "        [ 0.20506868],\n",
              "        [ 0.27989587],\n",
              "        [ 0.3143292 ],\n",
              "        [ 0.30216032],\n",
              "        [ 0.29440424],\n",
              "        [ 0.26276034],\n",
              "        [ 0.21769035],\n",
              "        [ 0.25921574],\n",
              "        [ 0.21741685],\n",
              "        [ 0.20637287],\n",
              "        [ 0.2634852 ],\n",
              "        [ 0.2498691 ],\n",
              "        [ 0.24543318],\n",
              "        [ 0.23195131],\n",
              "        [ 0.27018586],\n",
              "        [ 0.17707309],\n",
              "        [ 0.22960387],\n",
              "        [ 0.2565202 ],\n",
              "        [ 0.26284212],\n",
              "        [ 0.20678262],\n",
              "        [ 0.13941513],\n",
              "        [ 0.19331482],\n",
              "        [ 0.15713322],\n",
              "        [ 0.1358862 ],\n",
              "        [ 0.11922446],\n",
              "        [ 0.10653538],\n",
              "        [ 0.02327999],\n",
              "        [ 0.00870948],\n",
              "        [-0.02289337],\n",
              "        [-0.04621813],\n",
              "        [-0.03747957],\n",
              "        [-0.02146325],\n",
              "        [-0.02048837],\n",
              "        [ 0.02738369],\n",
              "        [ 0.05135947],\n",
              "        [ 0.03297084],\n",
              "        [ 0.01623318],\n",
              "        [ 0.03507295],\n",
              "        [ 0.01457082],\n",
              "        [-0.00980191],\n",
              "        [ 0.00317992],\n",
              "        [-0.05491729],\n",
              "        [ 0.08264107],\n",
              "        [ 0.15698418],\n",
              "        [ 0.1914616 ],\n",
              "        [ 0.22586739],\n",
              "        [ 0.23536095],\n",
              "        [ 0.22653735],\n",
              "        [ 0.24047023],\n",
              "        [ 0.2210846 ],\n",
              "        [ 0.24556327],\n",
              "        [ 0.25893092],\n",
              "        [ 0.26452035],\n",
              "        [ 0.2654428 ],\n",
              "        [ 0.263199  ],\n",
              "        [ 0.25884545],\n",
              "        [ 0.25309104],\n",
              "        [ 0.24640821],\n",
              "        [ 0.23911119],\n",
              "        [ 0.23140791],\n",
              "        [ 0.1946072 ],\n",
              "        [ 0.2265276 ],\n",
              "        [ 0.22280863],\n",
              "        [ 0.15704271],\n",
              "        [ 0.19070293],\n",
              "        [ 0.17653416],\n",
              "        [ 0.178576  ],\n",
              "        [ 0.20135015],\n",
              "        [ 0.2307159 ],\n",
              "        [ 0.26125383],\n",
              "        [ 0.26275444],\n",
              "        [ 0.26939625],\n",
              "        [ 0.25317645],\n",
              "        [ 0.24447928],\n",
              "        [ 0.26374075],\n",
              "        [ 0.2647787 ],\n",
              "        [ 0.28120393],\n",
              "        [ 0.21647412],\n",
              "        [ 0.21885186],\n",
              "        [ 0.19010723],\n",
              "        [ 0.2314871 ],\n",
              "        [ 0.2642537 ],\n",
              "        [ 0.2890216 ],\n",
              "        [ 0.3110769 ],\n",
              "        [ 0.27439818],\n",
              "        [ 0.03155467],\n",
              "        [ 0.10455046],\n",
              "        [ 0.1909499 ],\n",
              "        [ 0.22716314],\n",
              "        [ 0.13785404],\n",
              "        [ 0.18207364],\n",
              "        [ 0.11164145],\n",
              "        [ 0.13432923],\n",
              "        [ 0.14804748],\n",
              "        [ 0.07459247],\n",
              "        [ 0.03550681],\n",
              "        [ 0.02435722],\n",
              "        [ 0.05077592],\n",
              "        [ 0.08173028],\n",
              "        [ 0.11029139],\n",
              "        [ 0.08844504],\n",
              "        [ 0.12242669],\n",
              "        [ 0.08998062],\n",
              "        [ 0.10287198],\n",
              "        [ 0.11422423],\n",
              "        [ 0.10387916],\n",
              "        [ 0.10028989],\n",
              "        [ 0.12007532],\n",
              "        [ 0.1206615 ],\n",
              "        [ 0.13530773],\n",
              "        [ 0.12262981],\n",
              "        [ 0.13862707],\n",
              "        [ 0.0955606 ],\n",
              "        [ 0.07278309],\n",
              "        [ 0.04783486],\n",
              "        [ 0.09553409],\n",
              "        [ 0.06940597],\n",
              "        [ 0.10489371],\n",
              "        [ 0.01594143],\n",
              "        [ 0.03863873],\n",
              "        [ 0.06684153],\n",
              "        [ 0.05684604],\n",
              "        [ 0.043353  ],\n",
              "        [ 0.11734131],\n",
              "        [ 0.12898383],\n",
              "        [ 0.06822701],\n",
              "        [ 0.09936401],\n",
              "        [ 0.10358768],\n",
              "        [ 0.12932646],\n",
              "        [ 0.13811868],\n",
              "        [ 0.1103549 ],\n",
              "        [ 0.09885295],\n",
              "        [ 0.07799013],\n",
              "        [ 0.06802987],\n",
              "        [ 0.05693527],\n",
              "        [ 0.04825902],\n",
              "        [ 0.07927302],\n",
              "        [ 0.10839748],\n",
              "        [ 0.10332368],\n",
              "        [ 0.13085188],\n",
              "        [ 0.1234208 ],\n",
              "        [ 0.10792431],\n",
              "        [ 0.07702457],\n",
              "        [ 0.05215567],\n",
              "        [ 0.07975341],\n",
              "        [ 0.0692939 ],\n",
              "        [ 0.05519271],\n",
              "        [ 0.01872577],\n",
              "        [ 0.07105438],\n",
              "        [ 0.02991334],\n",
              "        [ 0.0750661 ],\n",
              "        [ 0.09486108],\n",
              "        [ 0.10634878],\n",
              "        [ 0.11258902],\n",
              "        [ 0.08353011],\n",
              "        [ 0.02551852],\n",
              "        [ 0.06247883],\n",
              "        [ 0.06731433],\n",
              "        [ 0.05855206],\n",
              "        [ 0.09362176],\n",
              "        [ 0.1060001 ],\n",
              "        [ 0.11440079],\n",
              "        [ 0.02780615],\n",
              "        [ 0.00231966],\n",
              "        [ 0.05050316],\n",
              "        [-0.00425302],\n",
              "        [ 0.04826757],\n",
              "        [-0.00251655],\n",
              "        [ 0.05003522],\n",
              "        [ 0.06419032]]], dtype=float32)>"
            ]
          },
          "metadata": {
            "tags": []
          },
          "execution_count": 22
        }
      ]
    },
    {
      "cell_type": "code",
      "metadata": {
        "id": "B8rENHpJG16M"
      },
      "source": [
        "#@title Callbacks\n",
        "# Tensorflow checkpoint\n",
        "path = '/content/drive/MyDrive/Mestrado/models/lstm/'\n",
        "\n",
        "checkpoint = tf.keras.callbacks.ModelCheckpoint(\n",
        "    filepath=path+'checkpoint',\n",
        "    frequecy='epoch',\n",
        "    save_weights_only=True,\n",
        "    monitor='val_loss',\n",
        "    save_best_only=True,\n",
        "    verbose=1\n",
        ")\n",
        "\n",
        "lr = tf.keras.callbacks.ReduceLROnPlateau(monitor=\"val_loss\",factor=0.2, min_delta=0.001, patience=5, verbose=1)\n",
        "\n",
        "csv = tf.keras.callbacks.CSVLogger(path+\"results.csv\")\n",
        "\n",
        "es = tf.keras.callbacks.EarlyStopping(monitor='val_loss', min_delta=0.01, patience=20, verbose=1)"
      ],
      "execution_count": null,
      "outputs": []
    },
    {
      "cell_type": "code",
      "metadata": {
        "id": "VKe3QIjZG6Rm"
      },
      "source": [
        "#@title Treinar o modelo\n",
        "model.fit(\n",
        "    train_ds,\n",
        "    validation_data=test_ds,\n",
        "    epochs=200,\n",
        "    callbacks=[checkpoint, lr, csv, es]\n",
        "    )"
      ],
      "execution_count": null,
      "outputs": []
    },
    {
      "cell_type": "code",
      "metadata": {
        "id": "QBGUciY8G-cR"
      },
      "source": [
        "#@title Métricas\n",
        "metrics = pd.read_csv(path + 'results.csv')\n",
        "metrics.head()"
      ],
      "execution_count": null,
      "outputs": []
    },
    {
      "cell_type": "code",
      "metadata": {
        "id": "kqEoAlYTG_ye"
      },
      "source": [
        "#@title Plot das Métricas do Modelo\n",
        "\n",
        "# Valor de mudança de learning rate\n",
        "metrics['lr_change'] = metrics['lr'] == metrics['lr'].shift(1)\n",
        "\n",
        "# Valores de learning para plot de gráfico\n",
        "lr_change = metrics.loc[metrics['lr_change'] == False, ['epoch', 'lr']]\n",
        "\n",
        "# Retirar a primeira linha\n",
        "lr_change = lr_change[1:]\n",
        "\n",
        "# Converter para dict\n",
        "lr_change = lr_change.to_dict('records')\n",
        "\n",
        "# Create two subplots\n",
        "fig, axs = plt.subplots(2, 1, figsize=(20, 8))\n",
        "axs[0].plot(metrics['epoch'], metrics['loss'], 'tab:blue', label='treino')\n",
        "axs[0].plot(metrics['epoch'], metrics['val_loss'], 'tab:red', label='teste')\n",
        "axs[0].set_title('Função de Perda')\n",
        "axs[0].set(ylabel='Perda')\n",
        "axs[0].legend()\n",
        "\n",
        "axs[1].plot(metrics['epoch'], metrics['MAE'], 'tab:blue', label='treino')\n",
        "axs[1].plot(metrics['epoch'], metrics['val_MAE'], 'tab:red', label='teste')\n",
        "axs[1].set_title('Erro Médio Absoluto')\n",
        "axs[1].set(ylabel='MAE')\n",
        "axs[1].legend()\n",
        "\n",
        "for lr in lr_change:\n",
        "    axs[0].axvline(x=lr['epoch'], linestyle='dotted', color='black')\n",
        "    axs[1].axvline(x=lr['epoch'], linestyle='dotted', color='black')\n",
        "    axs[0].text(\n",
        "        x=lr['epoch'],\n",
        "        y=0.1,\n",
        "        s=f\"lr reduzido para: {lr['lr']:.8f}\",\n",
        "        horizontalalignment='right'\n",
        "        )\n",
        "    axs[1].text(\n",
        "        x=lr['epoch'],\n",
        "        y=0.17,\n",
        "        s=f\"lr reduzido para: {lr['lr']:.8f}\",\n",
        "        horizontalalignment='right'\n",
        "        )\n",
        "\n",
        "for ax in axs.flat:\n",
        "    ax.set(xlabel='Épocas')\n",
        "\n",
        "for ax in axs.flat:\n",
        "    ax.label_outer()\n",
        "\n",
        "plt.show()"
      ],
      "execution_count": null,
      "outputs": []
    },
    {
      "cell_type": "code",
      "metadata": {
        "id": "wTh7TJgxHBaP"
      },
      "source": [
        "#@title Carregar o melhor modelo\n",
        "model = get_model()\n",
        "model.load_weights(path+'checkpoint')\n",
        "\n",
        "# Predição na base de teste\n",
        "prediction = model.predict(test_ds)"
      ],
      "execution_count": null,
      "outputs": []
    },
    {
      "cell_type": "code",
      "metadata": {
        "id": "22nMEFycHDLR"
      },
      "source": [
        "#@title Salvar predição\n",
        "np.savez_compressed('/content/drive/My Drive/Mestrado/data/predicao_lstm.npz', prediction)"
      ],
      "execution_count": null,
      "outputs": []
    }
  ]
}